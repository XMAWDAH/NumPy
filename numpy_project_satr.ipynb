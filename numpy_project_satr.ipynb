{
  "nbformat": 4,
  "nbformat_minor": 0,
  "metadata": {
    "colab": {
      "provenance": []
    },
    "kernelspec": {
      "name": "python3",
      "display_name": "Python 3"
    },
    "language_info": {
      "name": "python"
    }
  },
  "cells": [
    {
      "cell_type": "code",
      "source": [
        "import numpy as np"
      ],
      "metadata": {
        "id": "Z4eXjBYLxlY0"
      },
      "execution_count": 3,
      "outputs": []
    },
    {
      "cell_type": "code",
      "execution_count": 4,
      "metadata": {
        "colab": {
          "base_uri": "https://localhost:8080/"
        },
        "id": "ZJOB0C4ewVoo",
        "outputId": "d07bedaa-fb2a-4334-d85a-924c52772759"
      },
      "outputs": [
        {
          "output_type": "execute_result",
          "data": {
            "text/plain": [
              "array([0.        , 0.14285714, 0.28571429, 0.42857143, 0.57142857,\n",
              "       0.71428571, 0.85714286, 1.        , 1.14285714, 1.28571429,\n",
              "       1.42857143, 1.57142857, 1.71428571, 1.85714286, 2.        ])"
            ]
          },
          "metadata": {},
          "execution_count": 4
        }
      ],
      "source": [
        "np.linspace(0, 2, 15)"
      ]
    },
    {
      "cell_type": "code",
      "source": [
        "my_3d_array = np.array([\n",
        "    [[1.1, 2.1, 3.1], [4.1, 5.1, 6.1]],\n",
        "    [[7.1, 8.1, 9.1], [10.1, 11.1, 12.1]]\n",
        "])\n",
        "my_3d_array.shape"
      ],
      "metadata": {
        "colab": {
          "base_uri": "https://localhost:8080/"
        },
        "id": "Sg-OWrmoxqf9",
        "outputId": "51447fb6-230b-4d1a-c9f0-9a3eb0d241a1"
      },
      "execution_count": 7,
      "outputs": [
        {
          "output_type": "execute_result",
          "data": {
            "text/plain": [
              "(2, 2, 3)"
            ]
          },
          "metadata": {},
          "execution_count": 7
        }
      ]
    },
    {
      "cell_type": "code",
      "source": [
        "print(type(my_3d_array))\n",
        "print(my_3d_array.dtype)\n",
        "print(my_3d_array.shape)\n",
        "print(my_3d_array.size)\n",
        "print(my_3d_array.ndim)"
      ],
      "metadata": {
        "colab": {
          "base_uri": "https://localhost:8080/"
        },
        "id": "KdRYvmRJxz1n",
        "outputId": "14026aaf-7e14-493e-e533-eadb2856456d"
      },
      "execution_count": 8,
      "outputs": [
        {
          "output_type": "stream",
          "name": "stdout",
          "text": [
            "<class 'numpy.ndarray'>\n",
            "float64\n",
            "(2, 2, 3)\n",
            "12\n",
            "3\n"
          ]
        }
      ]
    },
    {
      "cell_type": "code",
      "source": [
        "#convert to 4D\n",
        "my_4d_array = np.array(my_3d_array, ndmin=4)\n",
        "print(my_4d_array.ndim)\n",
        "print(my_4d_array.shape)"
      ],
      "metadata": {
        "colab": {
          "base_uri": "https://localhost:8080/"
        },
        "id": "kpTPxW0ax3u3",
        "outputId": "ad5f47a6-7e51-4bdb-8ba0-7c0c1dfd0f60"
      },
      "execution_count": 9,
      "outputs": [
        {
          "output_type": "stream",
          "name": "stdout",
          "text": [
            "4\n",
            "(1, 2, 2, 3)\n"
          ]
        }
      ]
    },
    {
      "cell_type": "code",
      "source": [
        "#convert to integer\n",
        "my_new_array = my_4d_array.astype(int)\n",
        "print(my_new_array)\n",
        "my_new_array.dtype"
      ],
      "metadata": {
        "colab": {
          "base_uri": "https://localhost:8080/"
        },
        "id": "UH8f_zwmyE0J",
        "outputId": "9b80bef1-2fae-403e-c3d2-5f52e0eaf677"
      },
      "execution_count": 10,
      "outputs": [
        {
          "output_type": "stream",
          "name": "stdout",
          "text": [
            "[[[[ 1  2  3]\n",
            "   [ 4  5  6]]\n",
            "\n",
            "  [[ 7  8  9]\n",
            "   [10 11 12]]]]\n"
          ]
        },
        {
          "output_type": "execute_result",
          "data": {
            "text/plain": [
              "dtype('int64')"
            ]
          },
          "metadata": {},
          "execution_count": 10
        }
      ]
    },
    {
      "cell_type": "code",
      "source": [
        "#print all num\n",
        "for x in np.nditer(my_new_array):\n",
        "    print(x, end= ' ')"
      ],
      "metadata": {
        "colab": {
          "base_uri": "https://localhost:8080/"
        },
        "id": "ntn1IIE_yKMJ",
        "outputId": "7e34da20-f4aa-401d-ace6-35e9151cc98b"
      },
      "execution_count": 12,
      "outputs": [
        {
          "output_type": "stream",
          "name": "stdout",
          "text": [
            "1 2 3 4 5 6 7 8 9 10 11 12 "
          ]
        }
      ]
    },
    {
      "cell_type": "code",
      "source": [
        "#print num 8\n",
        "print(my_new_array[0, 1, 0, 1])"
      ],
      "metadata": {
        "colab": {
          "base_uri": "https://localhost:8080/"
        },
        "id": "ltgnGU7_yNxt",
        "outputId": "fd3b888c-4bb7-479f-8f20-a7c620cf2815"
      },
      "execution_count": 13,
      "outputs": [
        {
          "output_type": "stream",
          "name": "stdout",
          "text": [
            "8\n"
          ]
        }
      ]
    },
    {
      "cell_type": "code",
      "source": [
        "#print num 5 and 6\n",
        "print(my_new_array[0, 0, 1, 1:])"
      ],
      "metadata": {
        "colab": {
          "base_uri": "https://localhost:8080/"
        },
        "id": "SHi4KDfPyYEd",
        "outputId": "71a95879-7892-4504-8ecf-7a9ef91825ab"
      },
      "execution_count": 14,
      "outputs": [
        {
          "output_type": "stream",
          "name": "stdout",
          "text": [
            "[5 6]\n"
          ]
        }
      ]
    },
    {
      "cell_type": "code",
      "source": [
        "#find num 8\n",
        "print(np.where(my_new_array == 8))"
      ],
      "metadata": {
        "colab": {
          "base_uri": "https://localhost:8080/"
        },
        "id": "ofAZZOJLyoAL",
        "outputId": "70e115dc-2d74-4725-e842-c41c1cec6a0d"
      },
      "execution_count": 15,
      "outputs": [
        {
          "output_type": "stream",
          "name": "stdout",
          "text": [
            "(array([0]), array([1]), array([0]), array([1]))\n"
          ]
        }
      ]
    },
    {
      "cell_type": "code",
      "source": [
        "my_new_array.reshape(2,3,2)"
      ],
      "metadata": {
        "colab": {
          "base_uri": "https://localhost:8080/"
        },
        "id": "H-9WpBEmy2dE",
        "outputId": "577debbd-e174-4c7d-c6c3-267a6bc83150"
      },
      "execution_count": 16,
      "outputs": [
        {
          "output_type": "execute_result",
          "data": {
            "text/plain": [
              "array([[[ 1,  2],\n",
              "        [ 3,  4],\n",
              "        [ 5,  6]],\n",
              "\n",
              "       [[ 7,  8],\n",
              "        [ 9, 10],\n",
              "        [11, 12]]])"
            ]
          },
          "metadata": {},
          "execution_count": 16
        }
      ]
    },
    {
      "cell_type": "code",
      "source": [
        "arr1 = np.array([['A', 'B'], ['E', 'F']])\n",
        "arr2 = np.array([['C', 'D'], ['G', 'H']])\n",
        "\n",
        "joined_arrays = np.concatenate((arr1, arr2))\n",
        "print(joined_arrays)"
      ],
      "metadata": {
        "colab": {
          "base_uri": "https://localhost:8080/"
        },
        "id": "xvdBC07Zy7d6",
        "outputId": "76b1764d-1f17-465c-f770-7599dc86187c"
      },
      "execution_count": 17,
      "outputs": [
        {
          "output_type": "stream",
          "name": "stdout",
          "text": [
            "[['A' 'B']\n",
            " ['E' 'F']\n",
            " ['C' 'D']\n",
            " ['G' 'H']]\n"
          ]
        }
      ]
    },
    {
      "cell_type": "code",
      "source": [
        "joined_arrays2 = np.concatenate((arr1, arr2), axis = 1)\n",
        "print(joined_arrays2)"
      ],
      "metadata": {
        "colab": {
          "base_uri": "https://localhost:8080/"
        },
        "id": "LmyaM7lTzAIw",
        "outputId": "46282f31-9de1-46f9-dbed-fa6cc19f0382"
      },
      "execution_count": 18,
      "outputs": [
        {
          "output_type": "stream",
          "name": "stdout",
          "text": [
            "[['A' 'B' 'C' 'D']\n",
            " ['E' 'F' 'G' 'H']]\n"
          ]
        }
      ]
    },
    {
      "cell_type": "code",
      "source": [
        "split_joined_arrays = np.array_split(joined_arrays, 2, axis = 1)\n",
        "print(split_joined_arrays)"
      ],
      "metadata": {
        "colab": {
          "base_uri": "https://localhost:8080/"
        },
        "id": "A1DCYg5szDVN",
        "outputId": "f5e87a7d-aa98-4904-d969-71c1b99a7300"
      },
      "execution_count": 19,
      "outputs": [
        {
          "output_type": "stream",
          "name": "stdout",
          "text": [
            "[array([['A'],\n",
            "       ['E'],\n",
            "       ['C'],\n",
            "       ['G']], dtype='<U1'), array([['B'],\n",
            "       ['F'],\n",
            "       ['D'],\n",
            "       ['H']], dtype='<U1')]\n"
          ]
        }
      ]
    }
  ]
}